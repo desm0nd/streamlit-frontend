{
 "cells": [
  {
   "cell_type": "code",
   "execution_count": 301,
   "id": "66b51bee-461f-433b-a2b0-18280f0a8b4b",
   "metadata": {
    "tags": []
   },
   "outputs": [],
   "source": [
    "def divide_numbers(num1, num2):\n",
    "    \"\"\"\n",
    "    Divides two numbers and handles potential errors.\n",
    "\n",
    "    Args:\n",
    "        num1 (float or int): The first number to be divided.\n",
    "        num2 (float or int): The second number to be divided.\n",
    "\n",
    "    Returns:\n",
    "        float: The result of the division.\n",
    "\n",
    "    Raises:\n",
    "        ValueError: If either input is not a number.\n",
    "        ZeroDivisionError: If the second number (divisor) is zero.\n",
    "    \"\"\"\n",
    "\n",
    "    try:\n",
    "        result = num1 / num2\n",
    "    except ZeroDivisionError:\n",
    "        result = False  # Indicate error for division by zero\n",
    "    return result"
   ]
  },
  {
   "cell_type": "code",
   "execution_count": 302,
   "id": "884c11dd-11e2-4c00-89a4-0f41831f5bf6",
   "metadata": {
    "tags": []
   },
   "outputs": [],
   "source": [
    "import unittest\n",
    "import json"
   ]
  },
  {
   "cell_type": "code",
   "execution_count": 307,
   "id": "6af9ceb5-e6cd-4c48-8a8f-470f545033ff",
   "metadata": {
    "tags": []
   },
   "outputs": [],
   "source": [
    "json_data = [\n",
    "    {\n",
    "        \"input\": {\n",
    "            \"num1\": 10,\n",
    "            \"num2\": 3\n",
    "        },\n",
    "        \"expected\": 3.3333333333333335,\n",
    "    },\n",
    "    {\n",
    "        \"input\": {\n",
    "            \"num1\": 10,\n",
    "            \"num2\": 0\n",
    "        },\n",
    "        \"expected\": False,  # No output returned in case of an error\n",
    "    },\n",
    "    {\n",
    "        \"input\": {\n",
    "            \"num1\": 4.5,\n",
    "            \"num2\": 2.2\n",
    "        },\n",
    "        \"expected\": 2.0454545454545454,\n",
    "    }]"
   ]
  },
  {
   "cell_type": "code",
   "execution_count": null,
   "id": "3d81abc9-5880-493b-a134-44fd58e45601",
   "metadata": {},
   "outputs": [],
   "source": []
  },
  {
   "cell_type": "code",
   "execution_count": 308,
   "id": "e4382b6f-e35e-411f-acee-60258feb54bc",
   "metadata": {
    "tags": []
   },
   "outputs": [
    {
     "name": "stdout",
     "output_type": "stream",
     "text": [
      "Key-value pairs for item: {'input': {'num1': 10, 'num2': 3}, 'input.num1': 10, 'input.num2': 3, 'expected': 3.3333333333333335}\n",
      "Key-value pairs for item: {'input': {'num1': 10, 'num2': 0}, 'input.num1': 10, 'input.num2': 0, 'expected': False}\n",
      "Key-value pairs for item: {'input': {'num1': 4.5, 'num2': 2.2}, 'input.num1': 4.5, 'input.num2': 2.2, 'expected': 2.0454545454545454}\n"
     ]
    }
   ],
   "source": [
    "# def run_tests(test_cases):\n",
    "#     \"\"\"Runs test cases from a JSON file against the division function.\"\"\"\n",
    "\n",
    "#     test_suite = unittest.TestSuite()\n",
    "    \n",
    "def extract_dynamic_keys_and_values(obj):\n",
    "    data = {}\n",
    "    for key, value in obj.items():\n",
    "        data[key] = value\n",
    "        if isinstance(value, dict):\n",
    "            nested_data = extract_dynamic_keys_and_values(value)  # Recursive call\n",
    "            # Update data with key-value pairs from nested data\n",
    "            for nested_key, nested_value in nested_data.items():\n",
    "                data[f\"{key}.{nested_key}\"] = nested_value\n",
    "\n",
    "    return data\n",
    "\n",
    "for item in json_data:\n",
    "    key_value_pairs = extract_dynamic_keys_and_values(item)\n",
    "    print(f\"Key-value pairs for item: {key_value_pairs}\")"
   ]
  },
  {
   "cell_type": "code",
   "execution_count": null,
   "id": "084352ee-1eb2-4beb-9333-964839056d15",
   "metadata": {},
   "outputs": [],
   "source": []
  },
  {
   "cell_type": "code",
   "execution_count": 309,
   "id": "3dbf3ea6-9078-4d6d-974f-2e5f16fa6c85",
   "metadata": {
    "tags": []
   },
   "outputs": [],
   "source": [
    "def perform_tests(data):\n",
    "    \"\"\"\n",
    "    Extracts key-value pairs, performs tests, and compares with expected values.\n",
    "\n",
    "    Args:\n",
    "        data (list): A list of dictionaries containing test cases.\n",
    "\n",
    "    Returns:\n",
    "        list: A list of dictionaries with test results for each case.\n",
    "    \"\"\"\n",
    "\n",
    "    results = []\n",
    "    for item in data:\n",
    "        key_value_pairs = extract_dynamic_keys_and_values(item)\n",
    "\n",
    "        # Assume you have a separate function named `your_test_function`\n",
    "        # that takes the extracted values as input and performs testing.\n",
    "        test_result = divide_numbers(**key_value_pairs[\"input\"])\n",
    "\n",
    "        passed = test_result == key_value_pairs[\"expected\"]\n",
    "        result = {\n",
    "            \"input\": key_value_pairs[\"input\"],\n",
    "            \"expected\": key_value_pairs[\"expected\"],\n",
    "            \"result\": test_result,\n",
    "            \"passed\": passed\n",
    "        }\n",
    "        results.append(result)\n",
    "\n",
    "    return results"
   ]
  },
  {
   "cell_type": "code",
   "execution_count": 310,
   "id": "616039c3-32f2-4a98-bb76-cbb22420f0d8",
   "metadata": {
    "tags": []
   },
   "outputs": [
    {
     "name": "stdout",
     "output_type": "stream",
     "text": [
      "Test Case: {'num1': 10, 'num2': 3}\n",
      "Expected: 3.3333333333333335\n",
      "Result: 3.3333333333333335\n",
      "Passed: True\n",
      "\n",
      "Test Case: {'num1': 10, 'num2': 0}\n",
      "Expected: False\n",
      "Result: False\n",
      "Passed: True\n",
      "\n",
      "Test Case: {'num1': 4.5, 'num2': 2.2}\n",
      "Expected: 2.0454545454545454\n",
      "Result: 2.0454545454545454\n",
      "Passed: True\n",
      "\n"
     ]
    }
   ],
   "source": [
    "test_results = perform_tests(json_data)\n",
    "\n",
    "for result in test_results:\n",
    "    print(f\"Test Case: {result['input']}\")\n",
    "    print(f\"Expected: {result['expected']}\")\n",
    "    print(f\"Result: {result['result']}\")\n",
    "    print(f\"Passed: {result['passed']}\\n\")"
   ]
  },
  {
   "cell_type": "code",
   "execution_count": null,
   "id": "f0459fdf-5faa-4922-a5a2-6d72b2031e4b",
   "metadata": {},
   "outputs": [],
   "source": []
  },
  {
   "cell_type": "code",
   "execution_count": null,
   "id": "e0fec96a-555a-4d17-a60b-5342d6920b38",
   "metadata": {},
   "outputs": [],
   "source": []
  },
  {
   "cell_type": "code",
   "execution_count": null,
   "id": "2bbfbfdb-56ae-4136-a704-84eb729fcbfc",
   "metadata": {},
   "outputs": [],
   "source": []
  },
  {
   "cell_type": "code",
   "execution_count": null,
   "id": "a7efefd4-0cfa-43f9-aefb-0f147cb99dc5",
   "metadata": {
    "tags": []
   },
   "outputs": [],
   "source": []
  },
  {
   "cell_type": "code",
   "execution_count": null,
   "id": "dcdf436b-1c9b-47f8-841d-dadea99cc6e8",
   "metadata": {},
   "outputs": [],
   "source": [
    "###H1 Comments Block"
   ]
  },
  {
   "cell_type": "code",
   "execution_count": null,
   "id": "7b713f3f-e8f2-4c0b-8ca0-c5c281f343e2",
   "metadata": {},
   "outputs": [],
   "source": [
    "    # for i in keys:\n",
    "    #     print( i.values)\n",
    "    #with open(test_cases_file_path, \"r\") as file:\n",
    "    #    test_cases = json.loads(file)\n",
    "    # print(test_cases[0][\"input_data\"][\"num1\"])\n",
    "#     for test_case in test_cases:  \n",
    "#         num1 = test_case[\"input_data\"][\"num1\"]\n",
    "#         num2 = test_case[\"input_data\"][\"num2\"]\n",
    "#         print(num1,num2)\n",
    "#         try:\n",
    "#             result = divide_numbers(num1, num2)\n",
    "#             assert result == test_case[\"expected_output\"] \n",
    "#             #print(test_case)# Adjust for different comparisons\n",
    "#         except Exception as e:\n",
    "#             assert str(e) == test_case[\"expected_error\"]\n",
    "            \n",
    "            \n",
    "#     test_suite.addTest(unittest.FunctionTestCase(test_case))\n",
    "\n",
    "#     runner = unittest.TextTestRunner()\n",
    "#     result = runner.run(test_suite)"
   ]
  },
  {
   "cell_type": "code",
   "execution_count": 178,
   "id": "e3f68dbe-46d7-4988-a482-d3036efd8f16",
   "metadata": {},
   "outputs": [],
   "source": [
    "# def run_tests(test_cases):\n",
    "#     \"\"\"Runs test cases from a JSON file against the division function.\"\"\"\n",
    "\n",
    "#     test_suite = unittest.TestSuite()\n",
    "\n",
    "#     #with open(test_cases_file_path, \"r\") as file:\n",
    "#     #    test_cases = json.loads(file)\n",
    "#     # print(test_cases[0][\"input_data\"][\"num1\"])\n",
    "#     for test_case in test_cases:  \n",
    "#         num1 = test_case[\"input\"][\"num1\"]\n",
    "#         num2 = test_case[\"input\"][\"num2\"]\n",
    "#         print(num1,num2)\n",
    "#         try:\n",
    "#             result = divide_numbers(num1, num2)\n",
    "#             assert result == test_case[\"expected_output\"] \n",
    "#             #print(test_case)# Adjust for different comparisons\n",
    "#         except Exception as e:\n",
    "#             assert str(e) == test_case[\"expected_error\"]\n",
    "            \n",
    "            \n",
    "#     test_suite.addTest(unittest.FunctionTestCase(test_case))\n",
    "\n",
    "#     runner = unittest.TextTestRunner()\n",
    "#     result = runner.run(test_suite)\n",
    "\n",
    "# #     print(\"Test Results:\")\n",
    "# #     print(f\"Tests run: {result.testsRun}\")\n",
    "# #     print(f\"Failures: {len(result.failures)}\")\n",
    "# #     print(f\"Errors: {len(result.errors)}\")\n",
    "\n",
    "# #     if not result.wasSuccessful():\n",
    "# #         print(\"*** Some tests FAILED!\")"
   ]
  }
 ],
 "metadata": {
  "environment": {
   "kernel": "conda-root-py",
   "name": "workbench-notebooks.m115",
   "type": "gcloud",
   "uri": "gcr.io/deeplearning-platform-release/workbench-notebooks:m115"
  },
  "kernelspec": {
   "display_name": "Python 3 (ipykernel) (Local)",
   "language": "python",
   "name": "conda-root-py"
  },
  "language_info": {
   "codemirror_mode": {
    "name": "ipython",
    "version": 3
   },
   "file_extension": ".py",
   "mimetype": "text/x-python",
   "name": "python",
   "nbconvert_exporter": "python",
   "pygments_lexer": "ipython3",
   "version": "3.10.13"
  }
 },
 "nbformat": 4,
 "nbformat_minor": 5
}
